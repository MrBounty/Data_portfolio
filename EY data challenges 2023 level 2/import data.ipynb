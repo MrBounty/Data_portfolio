{
 "cells": [
  {
   "cell_type": "code",
   "execution_count": 1,
   "id": "63580d06-037a-4238-8b60-bbffcbc41118",
   "metadata": {},
   "outputs": [],
   "source": [
    "# Data Science\n",
    "import pandas as pd\n",
    "from useful import *\n",
    "\n",
    "# Others\n",
    "from tqdm.notebook import tqdm\n",
    "tqdm.pandas()\n",
    "from tqdm.notebook import tqdm_notebook\n",
    "tqdm_notebook.pandas()\n",
    "\n",
    "import warnings\n",
    "warnings.filterwarnings('ignore')"
   ]
  },
  {
   "cell_type": "code",
   "execution_count": 2,
   "id": "74506758-1e06-4c98-bf04-8148979e4f28",
   "metadata": {},
   "outputs": [],
   "source": [
    "def get_data(longitude, latitude, season, ha, settings):\n",
    "    data_dic = {}\n",
    "    for sat in settings[\"assests\"]:\n",
    "        for band in settings[\"assests\"][sat]:\n",
    "            data_dic[sat + \" \" + band] = []\n",
    "    data_dic[\"sentinel 1 vv/vh\"] = []\n",
    "    data_dic[\"sentinel 1 rvi\"] = []\n",
    "    \n",
    "    data_dic[\"sentinel 2 ndvi\"] = []\n",
    "    data_dic[\"sentinel 2 rdvi\"] = []\n",
    "    data_dic[\"sentinel 2 gndvi\"] = []\n",
    "    data_dic[\"sentinel 2 savi\"] = []\n",
    "    data_dic[\"sentinel 2 evi\"] = []\n",
    "    data_dic[\"sentinel 2 tvi\"] = []\n",
    "    data_dic[\"sentinel 2 ari1\"] = []\n",
    "    data_dic[\"sentinel 2 ari2\"] = []\n",
    "    data_dic[\"sentinel 2 cri1\"] = []\n",
    "    data_dic[\"sentinel 2 cri2\"] = []\n",
    "    \n",
    "    data_dic[\"landsat ndvi\"] = []\n",
    "    data_dic[\"landsat temperature\"] = []\n",
    "    \n",
    "    data_dic[\"sentinel 1 date\"] = []\n",
    "    data_dic[\"sentinel 2 date\"] = []\n",
    "    data_dic[\"landsat date\"] = []\n",
    "    \n",
    "    \n",
    "    if season == 'SA':\n",
    "        time_slice = \"2022-05-01/2022-08-31\"\n",
    "    if season == 'WS':\n",
    "        time_slice = \"2022-01-01/2022-04-30\"\n",
    "    detection_time_slice = \"2022-01-01/2022-12-31\"\n",
    "    \n",
    "    bbox_size = settings[\"bbox_size\"] * ha\n",
    "    bbox_of_interest = [longitude-bbox_size, latitude-bbox_size, longitude+bbox_size, latitude+bbox_size]\n",
    "    \n",
    "    items_sentinel_1 = list(settings[\"catalog\"].search(collections=[\"sentinel-1-rtc\"], bbox=bbox_of_interest, datetime=time_slice).item_collection())\n",
    "    items_sentinel_2 = list(settings[\"catalog\"].search(collections=[\"sentinel-2-l2a\"], bbox=bbox_of_interest, datetime=time_slice, query={\"eo:cloud_cover\": {\"lt\": 10}}).item_collection())\n",
    "    items_landsat = list(settings[\"catalog\"].search(collections=[\"landsat-c2-l2\"], bbox=bbox_of_interest, datetime=time_slice, query={\n",
    "        \"eo:cloud_cover\": {\"lt\": 10},\n",
    "        \"platform\": {\"in\": [\"landsat-8\", \"landsat-9\"]},\n",
    "    }).item_collection())\n",
    "    #detection_matrix = get_detection_matrix(bbox_of_interest, settings[\"catalog\"], detection_time_slice, settings)\n",
    "\n",
    "    for item in items_sentinel_1:\n",
    "        data = stac_load([item], bands=settings[\"assests\"][\"sentinel 1\"], patch_url=pc.sign, bbox=bbox_of_interest).isel(time=0)\n",
    "        if(data['vh'].values[0][0]!=-32768.0 and data['vv'].values[0][0]!=-32768.0):\n",
    "            data = data.where(~data.isnull(), 0)\n",
    "            \n",
    "            vh = data[\"vh\"].astype(\"float64\")# * detection_matrix\n",
    "            vv = data[\"vv\"].astype(\"float64\")# * detection_matrix\n",
    "            \n",
    "            vv_med = np.nanmedian(vv)\n",
    "            vh_med = np.nanmedian(vh)\n",
    "            \n",
    "            data_dic[\"sentinel 1 vv\"].append(vv_med)\n",
    "            data_dic[\"sentinel 1 vh\"].append(vh_med)\n",
    "            data_dic[\"sentinel 1 vv/vh\"].append(vv_med/vh_med)\n",
    "            data_dic[\"sentinel 1 rvi\"].append((np.sqrt((vv_med / (vv_med + vh_med))))*((4*vh_med)/(vv_med + vh_med)))\n",
    "            \n",
    "            data_dic[\"sentinel 1 date\"].append(data.time.to_numpy())\n",
    "            \n",
    "            \n",
    "    for item in items_sentinel_2:\n",
    "        data = stac_load([item], bands=settings[\"assests\"][\"sentinel 2\"], patch_url=pc.sign, bbox=bbox_of_interest).isel(time=0)\n",
    "        cloud_mask = \\\n",
    "            (data.SCL != 0) & \\\n",
    "            (data.SCL != 1) & \\\n",
    "            (data.SCL != 3) & \\\n",
    "            (data.SCL != 6) & \\\n",
    "            (data.SCL != 8) & \\\n",
    "            (data.SCL != 9) & \\\n",
    "            (data.SCL != 10) \n",
    "        data = data.where(cloud_mask)\n",
    "        for band in settings[\"assests\"][\"sentinel 2\"]:\n",
    "            data_dic[\"sentinel 2 \" + band].append(np.nanmedian(data[band].astype(\"float64\")))# * detection_matrix))\n",
    "            \n",
    "        nir = np.nanmedian(data[\"nir\"].astype(\"float64\"))# * detection_matrix)\n",
    "        red = np.nanmedian(data[\"red\"].astype(\"float64\"))# * detection_matrix)\n",
    "        green = np.nanmedian(data[\"green\"].astype(\"float64\"))# * detection_matrix)\n",
    "        blue = np.nanmedian(data[\"blue\"].astype(\"float64\"))# * detection_matrix)\n",
    "\n",
    "        data_dic[\"sentinel 2 ndvi\"].append((nir - red) / (nir + red))\n",
    "        data_dic[\"sentinel 2 rdvi\"].append((nir - red) / np.sqrt(nir + red))\n",
    "        data_dic[\"sentinel 2 gndvi\"].append((nir - green) / (nir + green))\n",
    "        data_dic[\"sentinel 2 savi\"].append((nir - red) / (nir + red + 0.5) * (1.0 + 0.5))\n",
    "        data_dic[\"sentinel 2 evi\"].append(2.5 * ((nir - red) / (nir + (6 * red) - (7.5 * blue) + 1)))\n",
    "        data_dic[\"sentinel 2 tvi\"].append(np.sqrt(((nir - red) / (nir + red)) + 0.5))\n",
    "        data_dic[\"sentinel 2 ari1\"].append((1/green) - (1/nir))\n",
    "        data_dic[\"sentinel 2 ari2\"].append(nir * ((1/green) - (1/nir)))\n",
    "        data_dic[\"sentinel 2 cri1\"].append((1/blue) - (1/green))\n",
    "        data_dic[\"sentinel 2 cri2\"].append((1/blue) - (1/nir))\n",
    "            \n",
    "        data_dic[\"sentinel 2 date\"].append(data.time.to_numpy())\n",
    "            \n",
    "    for item in items_landsat:\n",
    "        try:\n",
    "            data = stac_load([item], bands=settings[\"assests\"][\"landsat\"], patch_url=pc.sign, bbox=bbox_of_interest).isel(time=0)\n",
    "            my_mask = get_mask_landsat(data['qa_pixel'],\n",
    "                       ['fill', 'dilated_cloud', 'cirrus', \n",
    "                        'cloud', 'shadow', 'water'],\n",
    "                        settings[\"bit_flags\"])\n",
    "            my_mask = my_mask.to_numpy()\n",
    "            my_mask[~my_mask] = np.nan\n",
    "            for band in settings[\"assests\"][\"landsat\"]:            \n",
    "                data_dic[\"landsat \" + band].append(np.nanmedian(data[band].astype(\"float64\") * my_mask))\n",
    "\n",
    "            nir = np.nanmedian(data[\"nir08\"].astype(\"float64\").to_numpy() * my_mask)\n",
    "            red = np.nanmedian(data[\"red\"].astype(\"float64\").to_numpy() * my_mask)\n",
    "            data_dic[\"landsat ndvi\"].append((nir - red) / (nir + red))\n",
    "\n",
    "            band_info = item.assets[\"lwir11\"].extra_fields[\"raster:bands\"][0]\n",
    "            temperature = data[\"lwir11\"].astype(\"float64\")  * my_mask\n",
    "            temperature *= band_info[\"scale\"]\n",
    "            temperature += band_info[\"offset\"]\n",
    "            data_dic[\"landsat temperature\"].append(np.nanmedian(temperature.to_numpy()))\n",
    "\n",
    "            data_dic[\"landsat date\"].append(data.time.to_numpy())\n",
    "        except:\n",
    "            for band in settings[\"assests\"][\"landsat\"]:            \n",
    "                data_dic[\"landsat \" + band].append(np.nan)\n",
    "                data_dic[\"landsat ndvi\"].append(np.nan)\n",
    "                data_dic[\"landsat temperature\"].append(np.nan)\n",
    "            data_dic[\"landsat date\"].append(np.nan)\n",
    "                    \n",
    "    return data_dic\n",
    "\n",
    "def dic_to_df(dic):\n",
    "    rows = []\n",
    "    for d in dic:\n",
    "        rows.append(pd.Series(d))\n",
    "    return pd.concat(rows, axis=1).T\n",
    "\n",
    "def get_mask_landsat(mask, flags_list, bit_flags):\n",
    "    \n",
    "    # Create the result mask filled with zeros and the same shape as the mask\n",
    "    final_mask = np.zeros_like(mask)\n",
    "    \n",
    "    # Loop through the flags  \n",
    "    for flag in flags_list:\n",
    "        \n",
    "        # get the mask for each flag\n",
    "        flag_mask = np.bitwise_and(mask, bit_flags[flag])\n",
    "        \n",
    "        # add it to the final flag\n",
    "        final_mask = final_mask | flag_mask\n",
    "    \n",
    "    return final_mask > 0"
   ]
  },
  {
   "cell_type": "code",
   "execution_count": 3,
   "id": "726e98a3-9cfd-4ee6-a5d0-7c17ec555b0d",
   "metadata": {},
   "outputs": [],
   "source": [
    "settings = {\n",
    "    \"bbox_size\" : 0.0005,\n",
    "    \"data_name\" : \"8\",\n",
    "    \"assests\" : {\"sentinel 1\" : ['vh','vv'],\n",
    "                 \"sentinel 2\" : [\"red\", \"green\", \"blue\", \"nir\", \"SCL\", \"B05\", \"B06\", \"B07\", \"B8A\"],\n",
    "                 \"landsat\" : [\"nir08\", \"red\", \"green\", \"blue\", \"qa_pixel\", \"lwir11\"]\n",
    "                },\n",
    "    \"bit_flags\" : {\n",
    "            'fill': 1<<0,\n",
    "            'dilated_cloud': 1<<1,\n",
    "            'cirrus': 1<<2, \n",
    "            'cloud': 1<<3,\n",
    "            'shadow': 1<<4, \n",
    "            'snow': 1<<5, \n",
    "            'clear': 1<<6,\n",
    "            'water': 1<<7\n",
    "            },\n",
    "    \"catalog\": pystac_client.Client.open(\"https://planetarycomputer.microsoft.com/api/stac/v1\")\n",
    "}"
   ]
  },
  {
   "cell_type": "code",
   "execution_count": 4,
   "id": "0eccec79-eb71-4383-93ab-a144fd3d408c",
   "metadata": {},
   "outputs": [
    {
     "ename": "FileNotFoundError",
     "evalue": "[Errno 2] No such file or directory: 'Challenge_2_submission_template.csv'",
     "output_type": "error",
     "traceback": [
      "\u001b[0;31m---------------------------------------------------------------------------\u001b[0m",
      "\u001b[0;31mFileNotFoundError\u001b[0m                         Traceback (most recent call last)",
      "Cell \u001b[0;32mIn [4], line 2\u001b[0m\n\u001b[1;32m      1\u001b[0m crop_yield_data \u001b[38;5;241m=\u001b[39m pd\u001b[38;5;241m.\u001b[39mread_csv(\u001b[38;5;124m\"\u001b[39m\u001b[38;5;124mCrop_Yield_Data_challenge_2.csv\u001b[39m\u001b[38;5;124m\"\u001b[39m)\n\u001b[0;32m----> 2\u001b[0m test_file \u001b[38;5;241m=\u001b[39m \u001b[43mpd\u001b[49m\u001b[38;5;241;43m.\u001b[39;49m\u001b[43mread_csv\u001b[49m\u001b[43m(\u001b[49m\u001b[38;5;124;43m'\u001b[39;49m\u001b[38;5;124;43mChallenge_2_submission_template.csv\u001b[39;49m\u001b[38;5;124;43m'\u001b[39;49m\u001b[43m)\u001b[49m\n",
      "File \u001b[0;32m/srv/conda/envs/notebook/lib/python3.10/site-packages/pandas/util/_decorators.py:311\u001b[0m, in \u001b[0;36mdeprecate_nonkeyword_arguments.<locals>.decorate.<locals>.wrapper\u001b[0;34m(*args, **kwargs)\u001b[0m\n\u001b[1;32m    305\u001b[0m \u001b[38;5;28;01mif\u001b[39;00m \u001b[38;5;28mlen\u001b[39m(args) \u001b[38;5;241m>\u001b[39m num_allow_args:\n\u001b[1;32m    306\u001b[0m     warnings\u001b[38;5;241m.\u001b[39mwarn(\n\u001b[1;32m    307\u001b[0m         msg\u001b[38;5;241m.\u001b[39mformat(arguments\u001b[38;5;241m=\u001b[39marguments),\n\u001b[1;32m    308\u001b[0m         \u001b[38;5;167;01mFutureWarning\u001b[39;00m,\n\u001b[1;32m    309\u001b[0m         stacklevel\u001b[38;5;241m=\u001b[39mstacklevel,\n\u001b[1;32m    310\u001b[0m     )\n\u001b[0;32m--> 311\u001b[0m \u001b[38;5;28;01mreturn\u001b[39;00m \u001b[43mfunc\u001b[49m\u001b[43m(\u001b[49m\u001b[38;5;241;43m*\u001b[39;49m\u001b[43margs\u001b[49m\u001b[43m,\u001b[49m\u001b[43m \u001b[49m\u001b[38;5;241;43m*\u001b[39;49m\u001b[38;5;241;43m*\u001b[39;49m\u001b[43mkwargs\u001b[49m\u001b[43m)\u001b[49m\n",
      "File \u001b[0;32m/srv/conda/envs/notebook/lib/python3.10/site-packages/pandas/io/parsers/readers.py:678\u001b[0m, in \u001b[0;36mread_csv\u001b[0;34m(filepath_or_buffer, sep, delimiter, header, names, index_col, usecols, squeeze, prefix, mangle_dupe_cols, dtype, engine, converters, true_values, false_values, skipinitialspace, skiprows, skipfooter, nrows, na_values, keep_default_na, na_filter, verbose, skip_blank_lines, parse_dates, infer_datetime_format, keep_date_col, date_parser, dayfirst, cache_dates, iterator, chunksize, compression, thousands, decimal, lineterminator, quotechar, quoting, doublequote, escapechar, comment, encoding, encoding_errors, dialect, error_bad_lines, warn_bad_lines, on_bad_lines, delim_whitespace, low_memory, memory_map, float_precision, storage_options)\u001b[0m\n\u001b[1;32m    663\u001b[0m kwds_defaults \u001b[38;5;241m=\u001b[39m _refine_defaults_read(\n\u001b[1;32m    664\u001b[0m     dialect,\n\u001b[1;32m    665\u001b[0m     delimiter,\n\u001b[0;32m   (...)\u001b[0m\n\u001b[1;32m    674\u001b[0m     defaults\u001b[38;5;241m=\u001b[39m{\u001b[38;5;124m\"\u001b[39m\u001b[38;5;124mdelimiter\u001b[39m\u001b[38;5;124m\"\u001b[39m: \u001b[38;5;124m\"\u001b[39m\u001b[38;5;124m,\u001b[39m\u001b[38;5;124m\"\u001b[39m},\n\u001b[1;32m    675\u001b[0m )\n\u001b[1;32m    676\u001b[0m kwds\u001b[38;5;241m.\u001b[39mupdate(kwds_defaults)\n\u001b[0;32m--> 678\u001b[0m \u001b[38;5;28;01mreturn\u001b[39;00m \u001b[43m_read\u001b[49m\u001b[43m(\u001b[49m\u001b[43mfilepath_or_buffer\u001b[49m\u001b[43m,\u001b[49m\u001b[43m \u001b[49m\u001b[43mkwds\u001b[49m\u001b[43m)\u001b[49m\n",
      "File \u001b[0;32m/srv/conda/envs/notebook/lib/python3.10/site-packages/pandas/io/parsers/readers.py:575\u001b[0m, in \u001b[0;36m_read\u001b[0;34m(filepath_or_buffer, kwds)\u001b[0m\n\u001b[1;32m    572\u001b[0m _validate_names(kwds\u001b[38;5;241m.\u001b[39mget(\u001b[38;5;124m\"\u001b[39m\u001b[38;5;124mnames\u001b[39m\u001b[38;5;124m\"\u001b[39m, \u001b[38;5;28;01mNone\u001b[39;00m))\n\u001b[1;32m    574\u001b[0m \u001b[38;5;66;03m# Create the parser.\u001b[39;00m\n\u001b[0;32m--> 575\u001b[0m parser \u001b[38;5;241m=\u001b[39m \u001b[43mTextFileReader\u001b[49m\u001b[43m(\u001b[49m\u001b[43mfilepath_or_buffer\u001b[49m\u001b[43m,\u001b[49m\u001b[43m \u001b[49m\u001b[38;5;241;43m*\u001b[39;49m\u001b[38;5;241;43m*\u001b[39;49m\u001b[43mkwds\u001b[49m\u001b[43m)\u001b[49m\n\u001b[1;32m    577\u001b[0m \u001b[38;5;28;01mif\u001b[39;00m chunksize \u001b[38;5;129;01mor\u001b[39;00m iterator:\n\u001b[1;32m    578\u001b[0m     \u001b[38;5;28;01mreturn\u001b[39;00m parser\n",
      "File \u001b[0;32m/srv/conda/envs/notebook/lib/python3.10/site-packages/pandas/io/parsers/readers.py:932\u001b[0m, in \u001b[0;36mTextFileReader.__init__\u001b[0;34m(self, f, engine, **kwds)\u001b[0m\n\u001b[1;32m    929\u001b[0m     \u001b[38;5;28mself\u001b[39m\u001b[38;5;241m.\u001b[39moptions[\u001b[38;5;124m\"\u001b[39m\u001b[38;5;124mhas_index_names\u001b[39m\u001b[38;5;124m\"\u001b[39m] \u001b[38;5;241m=\u001b[39m kwds[\u001b[38;5;124m\"\u001b[39m\u001b[38;5;124mhas_index_names\u001b[39m\u001b[38;5;124m\"\u001b[39m]\n\u001b[1;32m    931\u001b[0m \u001b[38;5;28mself\u001b[39m\u001b[38;5;241m.\u001b[39mhandles: IOHandles \u001b[38;5;241m|\u001b[39m \u001b[38;5;28;01mNone\u001b[39;00m \u001b[38;5;241m=\u001b[39m \u001b[38;5;28;01mNone\u001b[39;00m\n\u001b[0;32m--> 932\u001b[0m \u001b[38;5;28mself\u001b[39m\u001b[38;5;241m.\u001b[39m_engine \u001b[38;5;241m=\u001b[39m \u001b[38;5;28;43mself\u001b[39;49m\u001b[38;5;241;43m.\u001b[39;49m\u001b[43m_make_engine\u001b[49m\u001b[43m(\u001b[49m\u001b[43mf\u001b[49m\u001b[43m,\u001b[49m\u001b[43m \u001b[49m\u001b[38;5;28;43mself\u001b[39;49m\u001b[38;5;241;43m.\u001b[39;49m\u001b[43mengine\u001b[49m\u001b[43m)\u001b[49m\n",
      "File \u001b[0;32m/srv/conda/envs/notebook/lib/python3.10/site-packages/pandas/io/parsers/readers.py:1216\u001b[0m, in \u001b[0;36mTextFileReader._make_engine\u001b[0;34m(self, f, engine)\u001b[0m\n\u001b[1;32m   1212\u001b[0m     mode \u001b[38;5;241m=\u001b[39m \u001b[38;5;124m\"\u001b[39m\u001b[38;5;124mrb\u001b[39m\u001b[38;5;124m\"\u001b[39m\n\u001b[1;32m   1213\u001b[0m \u001b[38;5;66;03m# error: No overload variant of \"get_handle\" matches argument types\u001b[39;00m\n\u001b[1;32m   1214\u001b[0m \u001b[38;5;66;03m# \"Union[str, PathLike[str], ReadCsvBuffer[bytes], ReadCsvBuffer[str]]\"\u001b[39;00m\n\u001b[1;32m   1215\u001b[0m \u001b[38;5;66;03m# , \"str\", \"bool\", \"Any\", \"Any\", \"Any\", \"Any\", \"Any\"\u001b[39;00m\n\u001b[0;32m-> 1216\u001b[0m \u001b[38;5;28mself\u001b[39m\u001b[38;5;241m.\u001b[39mhandles \u001b[38;5;241m=\u001b[39m \u001b[43mget_handle\u001b[49m\u001b[43m(\u001b[49m\u001b[43m  \u001b[49m\u001b[38;5;66;43;03m# type: ignore[call-overload]\u001b[39;49;00m\n\u001b[1;32m   1217\u001b[0m \u001b[43m    \u001b[49m\u001b[43mf\u001b[49m\u001b[43m,\u001b[49m\n\u001b[1;32m   1218\u001b[0m \u001b[43m    \u001b[49m\u001b[43mmode\u001b[49m\u001b[43m,\u001b[49m\n\u001b[1;32m   1219\u001b[0m \u001b[43m    \u001b[49m\u001b[43mencoding\u001b[49m\u001b[38;5;241;43m=\u001b[39;49m\u001b[38;5;28;43mself\u001b[39;49m\u001b[38;5;241;43m.\u001b[39;49m\u001b[43moptions\u001b[49m\u001b[38;5;241;43m.\u001b[39;49m\u001b[43mget\u001b[49m\u001b[43m(\u001b[49m\u001b[38;5;124;43m\"\u001b[39;49m\u001b[38;5;124;43mencoding\u001b[39;49m\u001b[38;5;124;43m\"\u001b[39;49m\u001b[43m,\u001b[49m\u001b[43m \u001b[49m\u001b[38;5;28;43;01mNone\u001b[39;49;00m\u001b[43m)\u001b[49m\u001b[43m,\u001b[49m\n\u001b[1;32m   1220\u001b[0m \u001b[43m    \u001b[49m\u001b[43mcompression\u001b[49m\u001b[38;5;241;43m=\u001b[39;49m\u001b[38;5;28;43mself\u001b[39;49m\u001b[38;5;241;43m.\u001b[39;49m\u001b[43moptions\u001b[49m\u001b[38;5;241;43m.\u001b[39;49m\u001b[43mget\u001b[49m\u001b[43m(\u001b[49m\u001b[38;5;124;43m\"\u001b[39;49m\u001b[38;5;124;43mcompression\u001b[39;49m\u001b[38;5;124;43m\"\u001b[39;49m\u001b[43m,\u001b[49m\u001b[43m \u001b[49m\u001b[38;5;28;43;01mNone\u001b[39;49;00m\u001b[43m)\u001b[49m\u001b[43m,\u001b[49m\n\u001b[1;32m   1221\u001b[0m \u001b[43m    \u001b[49m\u001b[43mmemory_map\u001b[49m\u001b[38;5;241;43m=\u001b[39;49m\u001b[38;5;28;43mself\u001b[39;49m\u001b[38;5;241;43m.\u001b[39;49m\u001b[43moptions\u001b[49m\u001b[38;5;241;43m.\u001b[39;49m\u001b[43mget\u001b[49m\u001b[43m(\u001b[49m\u001b[38;5;124;43m\"\u001b[39;49m\u001b[38;5;124;43mmemory_map\u001b[39;49m\u001b[38;5;124;43m\"\u001b[39;49m\u001b[43m,\u001b[49m\u001b[43m \u001b[49m\u001b[38;5;28;43;01mFalse\u001b[39;49;00m\u001b[43m)\u001b[49m\u001b[43m,\u001b[49m\n\u001b[1;32m   1222\u001b[0m \u001b[43m    \u001b[49m\u001b[43mis_text\u001b[49m\u001b[38;5;241;43m=\u001b[39;49m\u001b[43mis_text\u001b[49m\u001b[43m,\u001b[49m\n\u001b[1;32m   1223\u001b[0m \u001b[43m    \u001b[49m\u001b[43merrors\u001b[49m\u001b[38;5;241;43m=\u001b[39;49m\u001b[38;5;28;43mself\u001b[39;49m\u001b[38;5;241;43m.\u001b[39;49m\u001b[43moptions\u001b[49m\u001b[38;5;241;43m.\u001b[39;49m\u001b[43mget\u001b[49m\u001b[43m(\u001b[49m\u001b[38;5;124;43m\"\u001b[39;49m\u001b[38;5;124;43mencoding_errors\u001b[39;49m\u001b[38;5;124;43m\"\u001b[39;49m\u001b[43m,\u001b[49m\u001b[43m \u001b[49m\u001b[38;5;124;43m\"\u001b[39;49m\u001b[38;5;124;43mstrict\u001b[39;49m\u001b[38;5;124;43m\"\u001b[39;49m\u001b[43m)\u001b[49m\u001b[43m,\u001b[49m\n\u001b[1;32m   1224\u001b[0m \u001b[43m    \u001b[49m\u001b[43mstorage_options\u001b[49m\u001b[38;5;241;43m=\u001b[39;49m\u001b[38;5;28;43mself\u001b[39;49m\u001b[38;5;241;43m.\u001b[39;49m\u001b[43moptions\u001b[49m\u001b[38;5;241;43m.\u001b[39;49m\u001b[43mget\u001b[49m\u001b[43m(\u001b[49m\u001b[38;5;124;43m\"\u001b[39;49m\u001b[38;5;124;43mstorage_options\u001b[39;49m\u001b[38;5;124;43m\"\u001b[39;49m\u001b[43m,\u001b[49m\u001b[43m \u001b[49m\u001b[38;5;28;43;01mNone\u001b[39;49;00m\u001b[43m)\u001b[49m\u001b[43m,\u001b[49m\n\u001b[1;32m   1225\u001b[0m \u001b[43m\u001b[49m\u001b[43m)\u001b[49m\n\u001b[1;32m   1226\u001b[0m \u001b[38;5;28;01massert\u001b[39;00m \u001b[38;5;28mself\u001b[39m\u001b[38;5;241m.\u001b[39mhandles \u001b[38;5;129;01mis\u001b[39;00m \u001b[38;5;129;01mnot\u001b[39;00m \u001b[38;5;28;01mNone\u001b[39;00m\n\u001b[1;32m   1227\u001b[0m f \u001b[38;5;241m=\u001b[39m \u001b[38;5;28mself\u001b[39m\u001b[38;5;241m.\u001b[39mhandles\u001b[38;5;241m.\u001b[39mhandle\n",
      "File \u001b[0;32m/srv/conda/envs/notebook/lib/python3.10/site-packages/pandas/io/common.py:786\u001b[0m, in \u001b[0;36mget_handle\u001b[0;34m(path_or_buf, mode, encoding, compression, memory_map, is_text, errors, storage_options)\u001b[0m\n\u001b[1;32m    781\u001b[0m \u001b[38;5;28;01melif\u001b[39;00m \u001b[38;5;28misinstance\u001b[39m(handle, \u001b[38;5;28mstr\u001b[39m):\n\u001b[1;32m    782\u001b[0m     \u001b[38;5;66;03m# Check whether the filename is to be opened in binary mode.\u001b[39;00m\n\u001b[1;32m    783\u001b[0m     \u001b[38;5;66;03m# Binary mode does not support 'encoding' and 'newline'.\u001b[39;00m\n\u001b[1;32m    784\u001b[0m     \u001b[38;5;28;01mif\u001b[39;00m ioargs\u001b[38;5;241m.\u001b[39mencoding \u001b[38;5;129;01mand\u001b[39;00m \u001b[38;5;124m\"\u001b[39m\u001b[38;5;124mb\u001b[39m\u001b[38;5;124m\"\u001b[39m \u001b[38;5;129;01mnot\u001b[39;00m \u001b[38;5;129;01min\u001b[39;00m ioargs\u001b[38;5;241m.\u001b[39mmode:\n\u001b[1;32m    785\u001b[0m         \u001b[38;5;66;03m# Encoding\u001b[39;00m\n\u001b[0;32m--> 786\u001b[0m         handle \u001b[38;5;241m=\u001b[39m \u001b[38;5;28;43mopen\u001b[39;49m\u001b[43m(\u001b[49m\n\u001b[1;32m    787\u001b[0m \u001b[43m            \u001b[49m\u001b[43mhandle\u001b[49m\u001b[43m,\u001b[49m\n\u001b[1;32m    788\u001b[0m \u001b[43m            \u001b[49m\u001b[43mioargs\u001b[49m\u001b[38;5;241;43m.\u001b[39;49m\u001b[43mmode\u001b[49m\u001b[43m,\u001b[49m\n\u001b[1;32m    789\u001b[0m \u001b[43m            \u001b[49m\u001b[43mencoding\u001b[49m\u001b[38;5;241;43m=\u001b[39;49m\u001b[43mioargs\u001b[49m\u001b[38;5;241;43m.\u001b[39;49m\u001b[43mencoding\u001b[49m\u001b[43m,\u001b[49m\n\u001b[1;32m    790\u001b[0m \u001b[43m            \u001b[49m\u001b[43merrors\u001b[49m\u001b[38;5;241;43m=\u001b[39;49m\u001b[43merrors\u001b[49m\u001b[43m,\u001b[49m\n\u001b[1;32m    791\u001b[0m \u001b[43m            \u001b[49m\u001b[43mnewline\u001b[49m\u001b[38;5;241;43m=\u001b[39;49m\u001b[38;5;124;43m\"\u001b[39;49m\u001b[38;5;124;43m\"\u001b[39;49m\u001b[43m,\u001b[49m\n\u001b[1;32m    792\u001b[0m \u001b[43m        \u001b[49m\u001b[43m)\u001b[49m\n\u001b[1;32m    793\u001b[0m     \u001b[38;5;28;01melse\u001b[39;00m:\n\u001b[1;32m    794\u001b[0m         \u001b[38;5;66;03m# Binary mode\u001b[39;00m\n\u001b[1;32m    795\u001b[0m         handle \u001b[38;5;241m=\u001b[39m \u001b[38;5;28mopen\u001b[39m(handle, ioargs\u001b[38;5;241m.\u001b[39mmode)\n",
      "\u001b[0;31mFileNotFoundError\u001b[0m: [Errno 2] No such file or directory: 'Challenge_2_submission_template.csv'"
     ]
    }
   ],
   "source": [
    "crop_yield_data = pd.read_csv(\"Crop_Yield_Data_challenge_2.csv\")\n",
    "test_file = pd.read_csv('Challenge_2_submission_template.csv')"
   ]
  },
  {
   "cell_type": "code",
   "execution_count": 6,
   "id": "2e6dbfac-a018-4cc5-a172-64b3824783e8",
   "metadata": {},
   "outputs": [
    {
     "data": {
      "application/vnd.jupyter.widget-view+json": {
       "model_id": "7c5429e6a5df4a038c3e47460f1c614d",
       "version_major": 2,
       "version_minor": 0
      },
      "text/plain": [
       "  0%|          | 0/557 [00:00<?, ?it/s]"
      ]
     },
     "metadata": {},
     "output_type": "display_data"
    }
   ],
   "source": [
    "## Get Sentinel-1-RTC Data\n",
    "data = crop_yield_data.progress_apply(lambda x: get_data(x['Longitude'], x['Latitude'],x['Season(SA = Summer Autumn, WS = Winter Spring)'], x[\"Field size (ha)\"], settings), axis=1)\n",
    "dic_to_df(data).to_csv(\"data_\" + settings[\"data_name\"] + \".csv\", index=False)"
   ]
  },
  {
   "cell_type": "code",
   "execution_count": 7,
   "id": "f912a827-3f1d-4167-b583-f4ef6872ab21",
   "metadata": {},
   "outputs": [
    {
     "data": {
      "application/vnd.jupyter.widget-view+json": {
       "model_id": "be3355829e3c4e78b392578948b5b71a",
       "version_major": 2,
       "version_minor": 0
      },
      "text/plain": [
       "  0%|          | 0/100 [00:00<?, ?it/s]"
      ]
     },
     "metadata": {},
     "output_type": "display_data"
    }
   ],
   "source": [
    "## Get Sentinel-2 Data\n",
    "data_sub=test_file.progress_apply(lambda x: get_data(x['Longitude'], x['Latitude'],x['Season(SA = Summer Autumn, WS = Winter Spring)'], x[\"Field size (ha)\"], settings), axis=1)\n",
    "dic_to_df(data_sub).to_csv(\"submission_data_\" + settings[\"data_name\"] + \".csv\", index=False)"
   ]
  },
  {
   "cell_type": "code",
   "execution_count": null,
   "id": "783076c0-5723-482b-945c-6efad6e45056",
   "metadata": {},
   "outputs": [],
   "source": []
  }
 ],
 "metadata": {
  "kernelspec": {
   "display_name": "Python [conda env:notebook] *",
   "language": "python",
   "name": "conda-env-notebook-py"
  },
  "language_info": {
   "codemirror_mode": {
    "name": "ipython",
    "version": 3
   },
   "file_extension": ".py",
   "mimetype": "text/x-python",
   "name": "python",
   "nbconvert_exporter": "python",
   "pygments_lexer": "ipython3",
   "version": "3.10.6"
  }
 },
 "nbformat": 4,
 "nbformat_minor": 5
}
