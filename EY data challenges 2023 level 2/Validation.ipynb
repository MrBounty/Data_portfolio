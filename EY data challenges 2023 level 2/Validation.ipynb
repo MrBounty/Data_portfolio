{
 "cells": [
  {
   "cell_type": "code",
   "execution_count": 1,
   "id": "b57248a7-8694-47bd-82da-ab5eb7a3afc2",
   "metadata": {},
   "outputs": [],
   "source": [
    "import numpy as np\n",
    "import pandas as pd\n",
    "import pickle\n",
    "from ast import literal_eval\n",
    "from useful import *"
   ]
  },
  {
   "cell_type": "code",
   "execution_count": 2,
   "id": "94ce82f7-de93-4bbe-9262-79a7718d637f",
   "metadata": {},
   "outputs": [],
   "source": [
    "# Same as use in main\n",
    "data_name = [\"4\", \"5\"]\n",
    "to_drop = [\"sentinel 1 date\", \"sentinel 2 date\", \"landsat date\", 'landsat qa_pixel', 'sentinel 2 SCL', \"sentinel 2 blue\", \"sentinel 2 green\", \"sentinel 2 red\"\n",
    "                  , \"landsat blue\", \"landsat green\", \"landsat red\", 'sentinel 2 ari1', 'sentinel 2 ari2', 'sentinel 2 cri1', 'sentinel 2 cri2', \"sentinel 2 nir\"]"
   ]
  },
  {
   "cell_type": "code",
   "execution_count": 3,
   "id": "5fe7af3d-550f-4fe6-b818-6ec231d01456",
   "metadata": {},
   "outputs": [],
   "source": [
    "pickled_model = pickle.load(open('model.pkl', 'rb'))\n",
    "pickled_scs = pickle.load(open('scalers.pkl', 'rb'))"
   ]
  },
  {
   "cell_type": "code",
   "execution_count": 4,
   "id": "4d04bc62-489f-466e-9fe4-1d9fc8798bc9",
   "metadata": {},
   "outputs": [
    {
     "data": {
      "application/vnd.jupyter.widget-view+json": {
       "model_id": "3426d7bde4e047c5a38f3f534d41bf57",
       "version_major": 2,
       "version_minor": 0
      },
      "text/plain": [
       "  0%|          | 0/100 [00:00<?, ?it/s]"
      ]
     },
     "metadata": {},
     "output_type": "display_data"
    },
    {
     "name": "stderr",
     "output_type": "stream",
     "text": [
      "/home/jovyan/PlanetaryComputerExamples/EY challenges/LV 2/V 2/Assessment/useful.py:121: RuntimeWarning: Precision loss occurred in moment calculation due to catastrophic cancellation. This occurs when the data are nearly identical. Results may be unreliable.\n",
      "  tempo_list.append(skew(row[i]))\n",
      "/home/jovyan/PlanetaryComputerExamples/EY challenges/LV 2/V 2/Assessment/useful.py:122: RuntimeWarning: Precision loss occurred in moment calculation due to catastrophic cancellation. This occurs when the data are nearly identical. Results may be unreliable.\n",
      "  tempo_list.append(kurtosis(row[i]))\n",
      "/home/jovyan/PlanetaryComputerExamples/EY challenges/LV 2/V 2/Assessment/useful.py:318: RuntimeWarning: invalid value encountered in double_scalars\n",
      "  return s/smax\n"
     ]
    },
    {
     "data": {
      "application/vnd.jupyter.widget-view+json": {
       "model_id": "bda81c19845b48339824567ecacbe2e2",
       "version_major": 2,
       "version_minor": 0
      },
      "text/plain": [
       "  0%|          | 0/100 [00:00<?, ?it/s]"
      ]
     },
     "metadata": {},
     "output_type": "display_data"
    }
   ],
   "source": [
    "# Generate the submission file\n",
    "get_submission_multiple_regressor_scaler(pickled_model, data_name, pickled_scs, to_drop)"
   ]
  },
  {
   "cell_type": "code",
   "execution_count": null,
   "id": "e10194ae-0a6a-44f2-81de-9758cac6e068",
   "metadata": {},
   "outputs": [],
   "source": []
  }
 ],
 "metadata": {
  "kernelspec": {
   "display_name": "Python 3 (ipykernel)",
   "language": "python",
   "name": "python3"
  },
  "language_info": {
   "codemirror_mode": {
    "name": "ipython",
    "version": 3
   },
   "file_extension": ".py",
   "mimetype": "text/x-python",
   "name": "python",
   "nbconvert_exporter": "python",
   "pygments_lexer": "ipython3",
   "version": "3.10.6"
  }
 },
 "nbformat": 4,
 "nbformat_minor": 5
}
