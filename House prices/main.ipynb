{
 "cells": [
  {
   "cell_type": "code",
   "execution_count": 42,
   "metadata": {},
   "outputs": [],
   "source": [
    "import pandas as pd\n",
    "import matplotlib.pyplot as plt\n",
    "import seaborn as sns\n",
    "import numpy as np\n",
    "from tqdm.keras import TqdmCallback"
   ]
  },
  {
   "cell_type": "code",
   "execution_count": 43,
   "metadata": {},
   "outputs": [],
   "source": [
    "df_train = pd.read_csv('train.csv')\n",
    "df_test = pd.read_csv('test.csv')"
   ]
  },
  {
   "cell_type": "code",
   "execution_count": 44,
   "metadata": {},
   "outputs": [],
   "source": [
    "from sklearn.preprocessing import OneHotEncoder\n",
    "cat = df_train.loc[:, df_train.columns != \"SalePrice\"].select_dtypes(include=['object']).fillna(\"None\")\n",
    "enc = OneHotEncoder(handle_unknown='ignore').fit(cat)\n",
    "cat = enc.transform(cat).toarray()\n",
    "cat_sub = enc.transform(df_test.select_dtypes(include=['object']).fillna(\"None\")).toarray()"
   ]
  },
  {
   "cell_type": "code",
   "execution_count": 45,
   "metadata": {},
   "outputs": [
    {
     "name": "stderr",
     "output_type": "stream",
     "text": [
      "C:\\Users\\Adrien.Bouvais\\AppData\\Local\\Temp\\ipykernel_23072\\1276083086.py:1: FutureWarning: The default value of numeric_only in DataFrame.mean is deprecated. In a future version, it will default to False. In addition, specifying 'numeric_only=None' is deprecated. Select only valid columns or specify the value of numeric_only to silence this warning.\n",
      "  X = df_train.loc[:, df_train.columns != \"SalePrice\"].select_dtypes(include=['float64', 'float', 'int']).fillna(df_train.mean()).to_numpy()\n",
      "C:\\Users\\Adrien.Bouvais\\AppData\\Local\\Temp\\ipykernel_23072\\1276083086.py:2: FutureWarning: The default value of numeric_only in DataFrame.mean is deprecated. In a future version, it will default to False. In addition, specifying 'numeric_only=None' is deprecated. Select only valid columns or specify the value of numeric_only to silence this warning.\n",
      "  X_sub = df_test.select_dtypes(include=['float64', 'float', 'int']).fillna(df_test.mean()).to_numpy()\n"
     ]
    }
   ],
   "source": [
    "X = df_train.loc[:, df_train.columns != \"SalePrice\"].select_dtypes(include=['float64', 'float', 'int']).fillna(df_train.mean()).to_numpy()\n",
    "X_sub = df_test.select_dtypes(include=['float64', 'float', 'int']).fillna(df_test.mean()).to_numpy()\n",
    "y = df_train[\"SalePrice\"].to_numpy()"
   ]
  },
  {
   "cell_type": "code",
   "execution_count": 46,
   "metadata": {},
   "outputs": [],
   "source": [
    "from sklearn.preprocessing import StandardScaler\n",
    "sc = StandardScaler()\n",
    "X = sc.fit_transform(X)\n",
    "X_sub = sc.transform(X_sub)"
   ]
  },
  {
   "cell_type": "code",
   "execution_count": 47,
   "metadata": {},
   "outputs": [],
   "source": [
    "X = np.concatenate((X, cat), axis = 1)\n",
    "X_sub = np.concatenate((X_sub, cat_sub), axis = 1)"
   ]
  },
  {
   "cell_type": "code",
   "execution_count": 48,
   "metadata": {},
   "outputs": [],
   "source": [
    "from sklearn.model_selection import train_test_split\n",
    "X_train, X_val, y_train, y_val = train_test_split(X, y, test_size = 0.2, random_state = 0)"
   ]
  },
  {
   "cell_type": "code",
   "execution_count": 49,
   "metadata": {},
   "outputs": [
    {
     "name": "stdout",
     "output_type": "stream",
     "text": [
      "Model: \"model_3\"\n",
      "_________________________________________________________________\n",
      " Layer (type)                Output Shape              Param #   \n",
      "=================================================================\n",
      " input_4 (InputLayer)        [(None, 304)]             0         \n",
      "                                                                 \n",
      " dense_12 (Dense)            (None, 512)               156160    \n",
      "                                                                 \n",
      " dropout_5 (Dropout)         (None, 512)               0         \n",
      "                                                                 \n",
      " dense_13 (Dense)            (None, 512)               262656    \n",
      "                                                                 \n",
      " dropout_6 (Dropout)         (None, 512)               0         \n",
      "                                                                 \n",
      " dense_14 (Dense)            (None, 512)               262656    \n",
      "                                                                 \n",
      " dropout_7 (Dropout)         (None, 512)               0         \n",
      "                                                                 \n",
      " dense_15 (Dense)            (None, 1)                 513       \n",
      "                                                                 \n",
      "=================================================================\n",
      "Total params: 681,985\n",
      "Trainable params: 681,985\n",
      "Non-trainable params: 0\n",
      "_________________________________________________________________\n"
     ]
    }
   ],
   "source": [
    "from keras import Model, Input\n",
    "from keras.layers import Dense, Dropout\n",
    "\n",
    "number_of_input = X_train.shape[1]\n",
    "\n",
    "input_tensor = Input(shape=(number_of_input))\n",
    "x = Dense(512, activation='relu')(input_tensor)\n",
    "x = Dropout(0.5)(x)\n",
    "x = Dense(512, activation='relu')(x)\n",
    "x = Dropout(0.5)(x)\n",
    "x = Dense(512, activation='relu')(x)\n",
    "x = Dropout(0.5)(x)\n",
    "output_tensor = Dense(1)(x)\n",
    "\n",
    "model = Model(inputs=input_tensor, outputs=output_tensor)\n",
    "model.compile(optimizer='adam', loss='mse')\n",
    "\n",
    "model.summary()\n",
    "\n",
    "del number_of_input, x, input_tensor, output_tensor"
   ]
  },
  {
   "cell_type": "code",
   "execution_count": 50,
   "metadata": {},
   "outputs": [
    {
     "data": {
      "application/vnd.jupyter.widget-view+json": {
       "model_id": "47fdff3282474957b1d02c63ce249011",
       "version_major": 2,
       "version_minor": 0
      },
      "text/plain": [
       "0epoch [00:00, ?epoch/s]"
      ]
     },
     "metadata": {},
     "output_type": "display_data"
    },
    {
     "data": {
      "application/vnd.jupyter.widget-view+json": {
       "model_id": "b690bef0aa5f43bc9c70b4f33636a368",
       "version_major": 2,
       "version_minor": 0
      },
      "text/plain": [
       "0batch [00:00, ?batch/s]"
      ]
     },
     "metadata": {},
     "output_type": "display_data"
    }
   ],
   "source": [
    "history = model.fit(x=X_train,y=y_train,\n",
    "          validation_data=(X_val,y_val),\n",
    "          batch_size=128,epochs=100, \n",
    "          verbose=0, callbacks=[TqdmCallback(verbose=1)])"
   ]
  },
  {
   "cell_type": "code",
   "execution_count": 51,
   "metadata": {},
   "outputs": [
    {
     "data": {
      "image/png": "[encoded data removed]",
      "text/plain": [
       "<Figure size 1500x500 with 1 Axes>"
      ]
     },
     "metadata": {},
     "output_type": "display_data"
    }
   ],
   "source": [
    "losses = pd.DataFrame(history.history)\n",
    "\n",
    "plt.figure(figsize=(15,5))\n",
    "sns.lineplot(data=losses,lw=3)\n",
    "plt.xlabel('Epochs')\n",
    "plt.ylabel('')\n",
    "plt.title('Training Loss per Epoch')\n",
    "sns.despine()"
   ]
  },
  {
   "cell_type": "code",
   "execution_count": 52,
   "metadata": {},
   "outputs": [
    {
     "name": "stdout",
     "output_type": "stream",
     "text": [
      "46/46 [==============================] - 0s 1ms/step\n"
     ]
    }
   ],
   "source": [
    "prediction = model.predict(X_sub)\n",
    "prediction = prediction.reshape(1459, 1)\n",
    "ids = df_test[\"Id\"].to_numpy().reshape((1459, 1))\n",
    "sub = np.concatenate((ids, prediction), axis = 1)\n",
    "sub_df = pd.DataFrame(sub, columns=[\"Id\", \"SalePrice\"])\n",
    "sub_df[\"Id\"] = sub_df[\"Id\"].astype(\"int\")\n",
    "sub_df.to_csv(\"submission.csv\", index = False)"
   ]
  },
  {
   "cell_type": "code",
   "execution_count": null,
   "metadata": {},
   "outputs": [],
   "source": []
  }
 ],
 "metadata": {
  "kernelspec": {
   "display_name": "Python 3.10.8 64-bit",
   "language": "python",
   "name": "python3"
  },
  "language_info": {
   "codemirror_mode": {
    "name": "ipython",
    "version": 3
   },
   "file_extension": ".py",
   "mimetype": "text/x-python",
   "name": "python",
   "nbconvert_exporter": "python",
   "pygments_lexer": "ipython3",
   "version": "3.10.8"
  },
  "orig_nbformat": 4,
  "vscode": {
   "interpreter": {
    "hash": "a7b3bf0dc810857c29644718ccaa0a5f7d37bbe3116cbfff8714ad48b566bb27"
   }
  }
 },
 "nbformat": 4,
 "nbformat_minor": 2
}
