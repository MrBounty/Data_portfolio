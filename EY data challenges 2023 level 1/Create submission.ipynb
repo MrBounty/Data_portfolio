{
 "cells": [
  {
   "cell_type": "code",
   "execution_count": 1,
   "id": "d455760e-72d2-4a8d-96a0-66b712afd939",
   "metadata": {},
   "outputs": [],
   "source": [
    "from myFunction import *"
   ]
  },
  {
   "cell_type": "code",
   "execution_count": 2,
   "id": "a117264c-6178-4fdd-bf41-d0a79fe20e7f",
   "metadata": {},
   "outputs": [],
   "source": [
    "# Import and interpol submission data\n",
    "X_sub = np.load(\"data/rvi_sub.npy\")\n",
    "t_sub = np.load(\"data/times_sub.npy\")\n",
    "X_sub = interpol_X(X_sub, t_sub)"
   ]
  },
  {
   "cell_type": "code",
   "execution_count": 3,
   "id": "ed27bffe-c89f-4017-8a11-b452951dde82",
   "metadata": {},
   "outputs": [
    {
     "name": "stdout",
     "output_type": "stream",
     "text": [
      "8/8 [==============================] - 0s 3ms/step\n"
     ]
    }
   ],
   "source": [
    "# Import the model, predict and save the submission file\n",
    "model = keras.models.load_model(\"best_model.h5\")\n",
    "sub = submission_from_model(model, X_sub)"
   ]
  },
  {
   "cell_type": "code",
   "execution_count": null,
   "id": "22c7d5ce-9efb-47e1-bb3d-943e7d2c54bf",
   "metadata": {},
   "outputs": [],
   "source": []
  }
 ],
 "metadata": {
  "kernelspec": {
   "display_name": "Python 3 (ipykernel)",
   "language": "python",
   "name": "python3"
  },
  "language_info": {
   "codemirror_mode": {
    "name": "ipython",
    "version": 3
   },
   "file_extension": ".py",
   "mimetype": "text/x-python",
   "name": "python",
   "nbconvert_exporter": "python",
   "pygments_lexer": "ipython3",
   "version": "3.10.8"
  }
 },
 "nbformat": 4,
 "nbformat_minor": 5
}
